{
 "cells": [
  {
   "cell_type": "code",
   "execution_count": 1,
   "id": "cccdc2b0",
   "metadata": {},
   "outputs": [],
   "source": [
    "# CREATE FINANCIAL ENVIRONMENT USING GYMNASIUM PACKAGE"
   ]
  },
  {
   "cell_type": "code",
   "execution_count": null,
   "id": "75dc243d",
   "metadata": {},
   "outputs": [],
   "source": []
  }
 ],
 "metadata": {
  "kernelspec": {
   "display_name": "Python 3",
   "language": "python",
   "name": "python3"
  },
  "language_info": {
   "codemirror_mode": {
    "name": "ipython",
    "version": 3
   },
   "file_extension": ".py",
   "mimetype": "text/x-python",
   "name": "python",
   "nbconvert_exporter": "python",
   "pygments_lexer": "ipython3",
   "version": "3.11.5"
  }
 },
 "nbformat": 4,
 "nbformat_minor": 5
}
