{
 "cells": [
  {
   "cell_type": "code",
   "execution_count": 24,
   "id": "ed6e8da8",
   "metadata": {},
   "outputs": [],
   "source": [
    "import os\n",
    "import numpy as np\n",
    "import pandas as pd\n",
    "import io\n",
    "import requests\n"
   ]
  },
  {
   "cell_type": "code",
   "execution_count": 4,
   "id": "08512c75",
   "metadata": {},
   "outputs": [],
   "source": [
    "class Action_Space:\n",
    "    def sample(self):\n",
    "        return np.random.choice([0, 1])"
   ]
  },
  {
   "cell_type": "code",
   "execution_count": 17,
   "id": "60b2aac4",
   "metadata": {},
   "outputs": [],
   "source": [
    "import ssl\n",
    "import urllib.request\n",
    "\n",
    "context = ssl._create_unverified_context()\n",
    "\n",
    "url = 'https://certificate.tpq.io/rl4finance.csv'\n",
    "response = urllib.request.urlopen(url, context=context)"
   ]
  },
  {
   "cell_type": "code",
   "execution_count": 25,
   "id": "ec40f908",
   "metadata": {},
   "outputs": [],
   "source": [
    "class Finance():\n",
    "    url = 'https://certificate.tpq.io/rl4finance.csv'\n",
    "    def __init__(self, symbol, feature, n_features=4, min_accuracy=0.085):\n",
    "        self.action_space = Action_Space()\n",
    "        self.min_accuracy = min_accuracy\n",
    "        self.feature = feature\n",
    "        self.n_features = n_features\n",
    "        self.symbol = symbol\n",
    "        self.get_data()\n",
    "        self._prepare_data()\n",
    "        \n",
    "    def get_data(self):\n",
    "        s = requests.get(url).content\n",
    "        self.raw = pd.read_csv(io.StringIO(s.decode('utf-8')), index_col=0, parse_dates=True)\n",
    "        # self.raw = pd.read_csv(self.url, index_col=0, parse_dates=True, verify=False)\n",
    "        \n",
    "    def _prepare_data(self):\n",
    "        self.data = pd.DataFrame(self.raw[self.symbol]).dropna()\n",
    "        self.data['inc'] = np.log(self.data / self.data.shift(1))\n",
    "        self.data['act'] = np.where(self.data['inc'] > 0, 1, 0)\n",
    "        self.data.dropna(inplace=True)\n",
    "        self.data_ = (self.data - self.data.mean()) / self.data.std()"
   ]
  },
  {
   "cell_type": "code",
   "execution_count": 31,
   "id": "fd964ead",
   "metadata": {},
   "outputs": [],
   "source": [
    "class Finance(Finance):\n",
    "    def reset(self):\n",
    "        self.bar = self.n_features\n",
    "        self.reward = 0\n",
    "        state = self.data_[self.feature].iloc[self.bar-self.n_features : self.bar].values\n",
    "        return state, {}\n",
    "    \n",
    "    def step(self, action):\n",
    "        correct = False\n",
    "        if action == self.data['act'].iloc[self.bar]:\n",
    "            correct = True\n",
    "            \n",
    "        reward = 1 if correct else 0\n",
    "        self.reward += reward\n",
    "        self.bar += 1\n",
    "        self.accuracy = self.reward / (self.bar - self.n_features)\n",
    "        if self.bar > len(self.data):\n",
    "            done = True\n",
    "        elif self.accuracy < self.min_accuracy and self.bar > 10:\n",
    "            done = True\n",
    "        else: done = False\n",
    "        \n",
    "        next_state = self.data_[self.feature].iloc[\n",
    "            self.bar - self.n_features:self.bar].values\n",
    "        return next_state, reward, done, False, {}"
   ]
  },
  {
   "cell_type": "code",
   "execution_count": 32,
   "id": "febf9f32",
   "metadata": {},
   "outputs": [],
   "source": [
    "fin = Finance(symbol='EUR=', feature='EUR=')"
   ]
  },
  {
   "cell_type": "code",
   "execution_count": 33,
   "id": "037765d2",
   "metadata": {},
   "outputs": [
    {
     "data": {
      "text/plain": [
       "['AAPL.O',\n",
       " 'MSFT.O',\n",
       " 'INTC.O',\n",
       " 'AMZN.O',\n",
       " 'GS.N',\n",
       " '.SPX',\n",
       " '.VIX',\n",
       " 'SPY',\n",
       " 'EUR=',\n",
       " 'XAU=',\n",
       " 'GDX',\n",
       " 'GLD']"
      ]
     },
     "execution_count": 33,
     "metadata": {},
     "output_type": "execute_result"
    }
   ],
   "source": [
    "list(fin.raw.columns)"
   ]
  },
  {
   "cell_type": "code",
   "execution_count": 34,
   "id": "3f2ca0f5",
   "metadata": {},
   "outputs": [
    {
     "data": {
      "text/plain": [
       "(array([2.74844931, 2.64643904, 2.69560062, 2.68085214]), {})"
      ]
     },
     "execution_count": 34,
     "metadata": {},
     "output_type": "execute_result"
    }
   ],
   "source": [
    "fin.reset()"
   ]
  },
  {
   "cell_type": "code",
   "execution_count": 35,
   "id": "13757d9a",
   "metadata": {},
   "outputs": [
    {
     "data": {
      "text/plain": [
       "(array([2.64643904, 2.69560062, 2.68085214, 2.63046153]), 0, False, False, {})"
      ]
     },
     "execution_count": 35,
     "metadata": {},
     "output_type": "execute_result"
    }
   ],
   "source": [
    "fin.step(fin.action_space.sample())"
   ]
  }
 ],
 "metadata": {
  "kernelspec": {
   "display_name": "Python 3",
   "language": "python",
   "name": "python3"
  },
  "language_info": {
   "codemirror_mode": {
    "name": "ipython",
    "version": 3
   },
   "file_extension": ".py",
   "mimetype": "text/x-python",
   "name": "python",
   "nbconvert_exporter": "python",
   "pygments_lexer": "ipython3",
   "version": "3.11.5"
  }
 },
 "nbformat": 4,
 "nbformat_minor": 5
}
